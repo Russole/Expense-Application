{
 "cells": [
  {
   "cell_type": "code",
   "execution_count": 3,
   "id": "91938b7e",
   "metadata": {},
   "outputs": [
    {
     "name": "stdout",
     "output_type": "stream",
     "text": [
      "RegisterData_4.csv 已產生，共 100 筆資料\n"
     ]
    }
   ],
   "source": [
    "import csv\n",
    "\n",
    "# 設定基本資訊\n",
    "base_name = \"Jack\"\n",
    "base_email = \"Jack\"\n",
    "base_password = \"Jack\"\n",
    "\n",
    "# 產生 500 筆資料\n",
    "data = []\n",
    "for i in range(301, 401):\n",
    "    name = base_name\n",
    "    email = f\"{base_email}{i}@gmail.com\"\n",
    "    password = f\"{base_password}{i}\"\n",
    "    data.append([name, email, password])\n",
    "\n",
    "# 寫入 CSV（無表頭）\n",
    "with open('RegisterData_4.csv', mode='w', newline='', encoding='utf-8') as file:\n",
    "    writer = csv.writer(file)\n",
    "    writer.writerows(data)\n",
    "\n",
    "print(\"RegisterData_4.csv 已產生，共 100 筆資料\")\n"
   ]
  },
  {
   "cell_type": "code",
   "execution_count": null,
   "id": "8ed62ee8",
   "metadata": {},
   "outputs": [],
   "source": []
  }
 ],
 "metadata": {
  "kernelspec": {
   "display_name": "base",
   "language": "python",
   "name": "python3"
  },
  "language_info": {
   "codemirror_mode": {
    "name": "ipython",
    "version": 3
   },
   "file_extension": ".py",
   "mimetype": "text/x-python",
   "name": "python",
   "nbconvert_exporter": "python",
   "pygments_lexer": "ipython3",
   "version": "3.11.5"
  }
 },
 "nbformat": 4,
 "nbformat_minor": 5
}
