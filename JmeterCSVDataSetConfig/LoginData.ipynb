{
 "cells": [
  {
   "cell_type": "code",
   "execution_count": 2,
   "id": "d99786fc",
   "metadata": {},
   "outputs": [
    {
     "name": "stdout",
     "output_type": "stream",
     "text": [
      "LoginData_1_3000.csv 已產生，共 3000 筆資料（email + password）\n"
     ]
    }
   ],
   "source": [
    "import csv\n",
    "\n",
    "# 基本資訊\n",
    "base_email = \"Jack\"\n",
    "base_password = \"Jack\"\n",
    "\n",
    "# 產出 500 筆資料，只包含 email 和 password\n",
    "data = []\n",
    "for i in range(1, 3001):\n",
    "    email = f\"{base_email}{i}@gmail.com\"\n",
    "    password = f\"{base_password}{i}\"\n",
    "    data.append([email, password])\n",
    "\n",
    "# 寫入 CSV 檔案\n",
    "with open('LoginData_1_3000.csv', mode='w', newline='', encoding='utf-8') as file:\n",
    "    writer = csv.writer(file)\n",
    "    writer.writerows(data)\n",
    "\n",
    "print(\"LoginData_1_3000.csv 已產生，共 3000 筆資料（email + password）\")\n"
   ]
  }
 ],
 "metadata": {
  "kernelspec": {
   "display_name": "base",
   "language": "python",
   "name": "python3"
  },
  "language_info": {
   "codemirror_mode": {
    "name": "ipython",
    "version": 3
   },
   "file_extension": ".py",
   "mimetype": "text/x-python",
   "name": "python",
   "nbconvert_exporter": "python",
   "pygments_lexer": "ipython3",
   "version": "3.11.5"
  }
 },
 "nbformat": 4,
 "nbformat_minor": 5
}
